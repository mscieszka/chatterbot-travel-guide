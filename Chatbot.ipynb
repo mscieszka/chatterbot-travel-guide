{
 "cells": [
  {
   "cell_type": "code",
   "execution_count": null,
   "metadata": {},
   "outputs": [],
   "source": [
    "from chatterbot import ChatBot\n",
    "from chatterbot.trainers import ChatterBotCorpusTrainer\n",
    "from chatterbot.trainers import ListTrainer\n",
    "\n",
    "chatbot = ChatBot('HAL', preprocessors=['chatterbot.preprocessors.clean_whitespace'], \\\n",
    "                  #storage_adapter='chatterbot.storage.SQLStorageAdapter', \\\n",
    "                  logic_adapters=[ 'chatterbot.logic.MathematicalEvaluation', 'chatterbot.logic.BestMatch'], \\\n",
    "                  #database_uri='sqlite:///database.db')\n",
    "                 )\n",
    "\n",
    "trainer = ChatterBotCorpusTrainer(chatbot)\n",
    "\n",
    "trainer.train(\n",
    "    \"chatterbot.corpus.english.greetings\",\n",
    "    \"chatterbot.corpus.english.conversations\", \n",
    "    \"./pl-geo.yml\"\n",
    ")\n",
    "\n",
    "while True:\n",
    "    try:\n",
    "        user_input = input()\n",
    "\n",
    "        if user_input == \"bye\":\n",
    "            print(\"bye\")\n",
    "            break\n",
    "\n",
    "        bot_response = chatbot.get_response(user_input)\n",
    "\n",
    "        print(bot_response)\n",
    "\n",
    "    except (KeyboardInterrupt, EOFError, SystemExit):\n",
    "        break\n"
   ]
  }
 ],
 "metadata": {
  "language_info": {
   "name": "python"
  },
  "orig_nbformat": 4
 },
 "nbformat": 4,
 "nbformat_minor": 2
}
