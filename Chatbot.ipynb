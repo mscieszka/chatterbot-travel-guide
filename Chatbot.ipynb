{
 "cells": [
  {
   "cell_type": "code",
   "execution_count": 1,
   "metadata": {},
   "outputs": [
    {
     "name": "stdout",
     "output_type": "stream",
     "text": [
      "\r",
      "Training pl-geo.yml: [#                   ] 4%"
     ]
    },
    {
     "name": "stderr",
     "output_type": "stream",
     "text": [
      "[nltk_data] Downloading package averaged_perceptron_tagger to\n",
      "[nltk_data]     C:\\Users\\szled\\AppData\\Roaming\\nltk_data...\n",
      "[nltk_data]   Package averaged_perceptron_tagger is already up-to-\n",
      "[nltk_data]       date!\n",
      "[nltk_data] Downloading package punkt to\n",
      "[nltk_data]     C:\\Users\\szled\\AppData\\Roaming\\nltk_data...\n",
      "[nltk_data]   Package punkt is already up-to-date!\n",
      "[nltk_data] Downloading package stopwords to\n",
      "[nltk_data]     C:\\Users\\szled\\AppData\\Roaming\\nltk_data...\n",
      "[nltk_data]   Package stopwords is already up-to-date!\n"
     ]
    },
    {
     "name": "stdout",
     "output_type": "stream",
     "text": [
      "Training pl-geo.yml: [####################] 100%\n",
      "Training pl-general.yml: [####################] 100%\n",
      "Training pl-food.yml: [####################] 100%\n"
     ]
    }
   ],
   "source": [
    "from chatterbot import ChatBot\n",
    "from chatterbot.trainers import ChatterBotCorpusTrainer\n",
    "from chatterbot.trainers import ListTrainer\n",
    "\n",
    "chatbot = ChatBot('HAL', preprocessors=['chatterbot.preprocessors.clean_whitespace'], \n",
    "                  logic_adapters=[{\n",
    "        'import_path': 'chatterbot.logic.BestMatch',\n",
    "        'default_response': ['I am sorry. I am still learning!', \"Sorry, I can't understand.\", \n",
    "                             \"Sorry, ask me something about the food in Cracow\", \n",
    "                             \"Sorry, ask me something about beutiful places in Poland\", \n",
    "                             \"Sorry, ask me about some general questions about Poland\"],\n",
    "        'maximum_similarity_threshold': 0.80\n",
    "    }], )\n",
    "\n",
    "trainer = ChatterBotCorpusTrainer(chatbot)\n",
    "\n",
    "trainer.train(\n",
    "    \"./pl-geo.yml\", \n",
    "    \"./pl-general.yml\", \n",
    "    \"./pl-food.yml\"\n",
    ")"
   ]
  },
  {
   "cell_type": "code",
   "execution_count": null,
   "metadata": {},
   "outputs": [
    {
     "name": "stdout",
     "output_type": "stream",
     "text": [
      "reaa\n",
      "I am sorry. I am still learning!\n",
      "pole\n",
      "Sorry, ask me about some general questions about Poland\n",
      "po\n",
      "It's cities and mountains\n",
      "What currency is used in Poland?\n",
      "Polish Zloty (PLN)\n",
      "Will I be abule tu communicate in english?\n",
      "In larger cities, yes.\n",
      "I would like to eat something?\n",
      "Which cuisine do you like?\n",
      "Indian\n",
      "Hello India at Węglowa street\n",
      "American\n",
      "Do you prefer burgers or steaks?\n",
      "Steaks\n",
      "Moo Moo at Sienna street\n",
      "What is the most beautiful thing to see in Poland?\n",
      "It's cities and mountains\n"
     ]
    }
   ],
   "source": [
    "farewells = ['bye', 'good bye', 'see you']\n",
    "\n",
    "while True:\n",
    "    try:\n",
    "        user_input = input()\n",
    "\n",
    "        if user_input in farewells:\n",
    "            print(\"bye\")\n",
    "            break\n",
    "\n",
    "        bot_response = chatbot.get_response(user_input)\n",
    "\n",
    "        print(bot_response)\n",
    "\n",
    "    except (KeyboardInterrupt, EOFError, SystemExit):\n",
    "        break"
   ]
  },
  {
   "cell_type": "code",
   "execution_count": null,
   "metadata": {},
   "outputs": [],
   "source": []
  },
  {
   "cell_type": "code",
   "execution_count": null,
   "metadata": {},
   "outputs": [],
   "source": []
  }
 ],
 "metadata": {
  "kernelspec": {
   "display_name": "Python 3 (ipykernel)",
   "language": "python",
   "name": "python3"
  },
  "language_info": {
   "codemirror_mode": {
    "name": "ipython",
    "version": 3
   },
   "file_extension": ".py",
   "mimetype": "text/x-python",
   "name": "python",
   "nbconvert_exporter": "python",
   "pygments_lexer": "ipython3",
   "version": "3.7.5"
  }
 },
 "nbformat": 4,
 "nbformat_minor": 2
}
